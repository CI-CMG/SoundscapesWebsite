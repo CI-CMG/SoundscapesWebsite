{
  "cells": [
    {
      "cell_type": "code",
      "metadata": {},
      "source": [
        "#| include: false\n",
        "import pandas as pd\n",
        "from datetime import date\n",
        "from tabulate import tabulate\n",
        "from IPython.display import display, HTML, Image\n",
        "import os\n",
        "import ipywidgets as widgets\n",
        "\n",
        "\n",
        "sites = [\"sb01\", \"sb03\"]\n",
        "\n",
        "def makeButtons(generalFormat, identifier):\n",
        "    buttons = \"\"\n",
        "    scripts = \"\"\n",
        "    inputDir = \"https://github.com/CI-CMG/SoundscapeScenes/blob/main/ONMS-Sound/report/\"\n",
        "    path = inputDir + generalFormat\n",
        "    path = path.replace(\"***\", sites[0])\n",
        "    path += \"?raw=true\"\n",
        "    initialImage = f'<img src=\"{path}\" width=\"700\" id=\"{identifier}\">'\n",
        "    if len(sites) == 1:\n",
        "        return initialImage\n",
        "    \n",
        "    for site in sites:\n",
        "        path = inputDir + generalFormat\n",
        "        path = path.replace(\"***\", site)\n",
        "        path += \"?raw=true\"\n",
        "        \n",
        "        buttons += f'<button onclick=\"{site}{identifier}()\" style=\"padding: 10px; color: white; margin: 4px 4px; background-color: #008CBA;\">{site}</button>'\n",
        "        scripts += f\"\"\"\n",
        "                    <script>\n",
        "                    function {site}{identifier}() {{\n",
        "                        var imgElement = document.getElementById('{identifier}');\n",
        "                        imgElement.src = \"{path}\";\n",
        "                    }}\n",
        "                    </script>\n",
        "        \"\"\"\n",
        "    return buttons + initialImage + scripts\n",
        "\n",
        "inputDir = os.path.normpath(os.path.join(os.getcwd(), \"resources\"))\n",
        "metaFile = os.path.join(inputDir, \"ONMSSound_IndicatorCategories.xlsx\")\n",
        "metadata = pd.read_excel(metaFile, sheet_name =\"Summary\", header=1)\n",
        "lookup = [row for index, row in metadata.iterrows() if row.iloc[4] in sites]\n",
        "dicts = [l.to_dict() for l in lookup]\n",
        "\n",
        "df = pd.read_excel(metaFile, sheet_name=\"Standard Report Text\", engine_kwargs={'keep_links': True})\n",
        "standardTextDict = pd.Series(df.iloc[:, 3].values, index=df.iloc[:, 1]).to_dict()\n",
        "\n",
        "for key in standardTextDict:\n",
        "    while \"**\" in standardTextDict[key]:\n",
        "        standardTextDict[key] = standardTextDict[key].replace(\"**\", \"<b>\", 1)\n",
        "        standardTextDict[key] = standardTextDict[key].replace(\"**\", \"</b>\", 1)\n",
        "\n",
        "df = pd.read_excel(metaFile, sheet_name=\"SB\")\n",
        "summaryTable = [list(df.columns.values)]\n",
        "for i in range(len(summaryTable[0])):\n",
        "    summaryTable[0][i] = summaryTable[0][i].replace(\" \", \".\")\n",
        "summaryTable.extend(df.values.tolist())\n",
        "\n",
        "htmlTable = tabulate(summaryTable, tablefmt=\"html\")"
      ],
      "id": "989b8095",
      "execution_count": null,
      "outputs": []
    },
    {
      "cell_type": "raw",
      "metadata": {},
      "source": [
        "---\n",
        "title: \"Soundscape Monitoring Report for Stellwagen Bank National Marine Sanctuary\"\n",
        "author: \"ONMS Sound\"\n",
        "date: \"today\"\n",
        "output: \n",
        "  html_document: \n",
        "    fig_caption: true\n",
        "params:\n",
        "  author: \"Stellwagen Bank National Marine Sanctuary\"\n",
        "  abrv: \"SBNMS\"\n",
        "  sitetype: \"nearshore\"\n",
        "editor_options: \n",
        "  markdown: \n",
        "    wrap: 72\n",
        "---"
      ],
      "id": "b617c844"
    },
    {
      "cell_type": "markdown",
      "metadata": {},
      "source": [
        "::: {style=\"border: 1px solid black; padding: 10px; margin-bottom: 20px;\"}\n",
        "## What is ocean sound?\n"
      ],
      "id": "5068dd1b"
    },
    {
      "cell_type": "code",
      "metadata": {},
      "source": [
        "#| echo: false\n",
        "display(HTML(standardTextDict[\"What is ocean sound?\"]))"
      ],
      "id": "ce683bf7",
      "execution_count": null,
      "outputs": []
    },
    {
      "cell_type": "markdown",
      "metadata": {},
      "source": [
        ":::\n",
        "\n",
        "::: {style=\"border: 1px solid black; padding: 10px; margin-bottom: 20px;\"}\n",
        "## When, where, & why are we listening?"
      ],
      "id": "0da1f355"
    },
    {
      "cell_type": "code",
      "metadata": {},
      "source": [
        "#| echo: false\n",
        "display(HTML(standardTextDict[\"When, where, & why are we listening?\"]))"
      ],
      "id": "69460d21",
      "execution_count": null,
      "outputs": []
    },
    {
      "cell_type": "markdown",
      "metadata": {},
      "source": [
        "### Summary of SBNMS ocean sound monitoring sites"
      ],
      "id": "f29253c1"
    },
    {
      "cell_type": "code",
      "metadata": {},
      "source": [
        "#| echo: false\n",
        "display(HTML(htmlTable))"
      ],
      "id": "81b48917",
      "execution_count": null,
      "outputs": []
    },
    {
      "cell_type": "markdown",
      "metadata": {},
      "source": [
        ":::\n",
        "\n",
        "::: {style=\"border: 1px solid black; padding: 10px; margin-bottom: 20px;\"}\n",
        "## What is a soundscape?"
      ],
      "id": "4402dec3"
    },
    {
      "cell_type": "code",
      "metadata": {},
      "source": [
        "#| echo: false\n",
        "display(HTML(standardTextDict[\"What is a soundscape?\"]))\n",
        "display(HTML(makeButtons(\"plot_***_SeasonalSPL.jpg\", \"Seasons\")))\n",
        "infoHtml = f'''\n",
        "                <button style=\"background-color: #FFFFFF;\" onclick=\"document.getElementById(&#39;infoModal&#39;).showModal()\">How was this calculated?</button>\n",
        "            <dialog id=\"infoModal\">\n",
        "                <p>The median power spectral densities (PSD) for all hours across all years are calculated from calibrated audio data using community software tools:\n",
        "                <a href=\"https://github.com/MarineBioAcousticsRC/Triton/tree/master\" target=\"_blank\">Triton Soundscape Metrics</a>, <a href=\"https://pubs.aip.org/asa/jel/article/1/1/011203/219719\" target=\"_blank\">MANTA</a>, or <a href=\"https://github.com/lifewatch/pypam\" target=\"_blank\">PyPAM</a>. Triton software calculates the one-third octave band sound pressure levels by integration of PSD levels with a 1 Hz/1 second resolution and a median was used to calculate hourly values over no less than 1,800 1-s values for that hour and converted to decibels (dB re 1 μPa). MANTA and PYPAM software calculates power spectral density (PSD) levels per minute (μPa²) within the hybrid milledecade frequency bands. <a href=\"https://cran.r-project.org/web/packages/PAMscapes/index.html\" target=\"_blank\">PAMscapes</a> was used to calculate the median for each hour within one-third octave bands. These values were then converted to 1-Hz resolution to match the wind model results by converting to pressure and dividing by the band width before converting back to sound spectrum levels in decibels (dB re 1 μPa/Hz).</p>\n",
        "                <button style=\"background-color: #FFFFFF;\" onclick=\"document.getElementById(&#39;infoModal&#39;).close()\">\n",
        "                    Close\n",
        "                </button>\n",
        "            </dialog>\n",
        "                <button style=\"background-color: #FFFFFF;\" onclick=\"document.getElementById(&#39;infoModal2&#39;).showModal()\">\n",
        "                    How does my sanctuary compare?\n",
        "                </button>\n",
        "            <dialog id=\"infoModal2\">\n",
        "                <p>No one soundscape is alike and we can use other sites in similar oceanographic settings (e.g. nearshore or offshore) to compare conditions. From 2018-2022, the U.S. National Oceanic and Atmospheric Administration (NOAA) and the U.S. Navy engaged in a multi-year effort to monitor underwater sound within the U.S. National Marine Sanctuary System, known <a href=\"https://sanctuaries.noaa.gov/science/monitoring/sound/sanctsound.html\" target=\"_blank\">Sanctuary SoundScape Monitoring Project</a>. Data collected during this dedicated period provide <a href=\"https://www.frontiersin.org/journals/marine-science/articles/10.3389/fmars.2021.719258/full\" target=\"_blank\">initial insights</a> on how soundscapes compare.</p>\n",
        "                <button style=\"background-color: #FFFFFF;\" onclick=\"document.getElementById(&#39;infoModal2&#39;).close()\">\n",
        "                    Close\n",
        "                </button>\n",
        "            </dialog>\n",
        "'''\n",
        "display(HTML(infoHtml))"
      ],
      "id": "18ce94b9",
      "execution_count": null,
      "outputs": []
    },
    {
      "cell_type": "markdown",
      "metadata": {},
      "source": [
        ":::\n",
        "\n",
        "::: {style=\"border: 1px solid black; padding: 10px; margin-bottom: 20px;\"}\n",
        "## What are the most recent conditions in ocean sound?"
      ],
      "id": "e8917332"
    },
    {
      "cell_type": "code",
      "metadata": {},
      "source": [
        "#| echo: false\n",
        "display(HTML(standardTextDict[\"What are the latest conditions in ocean sound?\"]))\n",
        "display(HTML(makeButtons(\"plot_***_YearSPL.jpg\", \"YearSPL\")))"
      ],
      "id": "f25b8205",
      "execution_count": null,
      "outputs": []
    },
    {
      "cell_type": "markdown",
      "metadata": {},
      "source": [
        ":::\n",
        "\n",
        "::: {style=\"border: 1px solid black; padding: 10px; margin-bottom: 20px;\"}\n",
        "## How often is ocean sound above wind noise?\n"
      ],
      "id": "33d35bf3"
    },
    {
      "cell_type": "code",
      "metadata": {},
      "source": [
        "#| echo: false\n",
        "display(HTML(standardTextDict[\"How often is ocean sound above wind noise?\"]))\n",
        "display(HTML(makeButtons(\"table_***_AboveWind.jpg\", \"TimeSeries\")))\n",
        "infoHtml = f'''\n",
        "            <button style=\"background-color: #FFFFFF;\" onclick=\"document.getElementById(&#39;infoModal3&#39;).showModal()\">\n",
        "            Time series of results\n",
        "            </button>\n",
        "            <dialog id =\"infoModal3\">\n",
        "                <p> </p>\n",
        "                {makeButtons(\"plot_***_Exceed100.jpg\", \"MonthTable\")}\n",
        "                <button style=\"background-color: #FFFFFF;\" onclick=\"document.getElementById(&#39;infoModal3&#39;).close()\">\n",
        "                Close\n",
        "                </button>\n",
        "                '''\n",
        "display(HTML(infoHtml))"
      ],
      "id": "b042e251",
      "execution_count": null,
      "outputs": []
    },
    {
      "cell_type": "markdown",
      "metadata": {},
      "source": [
        ":::\n",
        "\n",
        "::: {style=\"border: 1px solid black; padding: 10px; margin-bottom: 20px;\"}\n",
        "## How much noise do nearby ships contribute to the soundscape?\n"
      ],
      "id": "79d52e23"
    },
    {
      "cell_type": "code",
      "metadata": {},
      "source": [
        "#| echo: false\n",
        "display(HTML(standardTextDict[\"How much noise do nearby ships contribute to the soundscape?\"]))\n",
        "display(HTML(makeButtons(\"plot_***_AIShist.jpg\", \"Hist\")))\n",
        "infoHtml = f'''\n",
        "            <button style=\"background-color: #FFFFFF;\" onclick=\"document.getElementById(&#39;infoModal4&#39;).showModal()\">\n",
        "            Table of results\n",
        "            </button>\n",
        "            \n",
        "            <dialog id=\"infoModal4\">\n",
        "                <p>Summary of nearby AIS ship traffic.</p>\n",
        "                {makeButtons(\"table_***_AIShist.jpg\", \"TableHist\")}\n",
        "                <button style=\"background-color: #FFFFFF;\" onclick=\"document.getElementById(&#39;infoModal4&#39;).close()\">\n",
        "                Close\n",
        "                </button>\n",
        "                '''\n",
        "display(HTML(infoHtml))"
      ],
      "id": "f32c8946",
      "execution_count": null,
      "outputs": []
    },
    {
      "cell_type": "markdown",
      "metadata": {},
      "source": [
        ":::\n",
        "::: {style=\"border: 1px solid black; padding: 10px; margin-bottom: 20px;\"}\n",
        "## How much do vessel speed reduction programs reduce ocean noise?\n"
      ],
      "id": "00ed79d2"
    },
    {
      "cell_type": "code",
      "metadata": {},
      "source": [
        "#| echo: false\n",
        "display(HTML(standardTextDict[\"How much do vessel speed reduction programs reduce ocean noise?\"]))"
      ],
      "id": "906632c8",
      "execution_count": null,
      "outputs": []
    },
    {
      "cell_type": "markdown",
      "metadata": {},
      "source": [
        ":::\n",
        "\n",
        "::: {style=\"border: 1px solid black; padding: 10px; margin-bottom: 20px;\"}\n",
        "## When do biological sounds contribute to the soundscape?\n"
      ],
      "id": "7f30154b"
    },
    {
      "cell_type": "code",
      "metadata": {},
      "source": [
        "#| echo: false\n",
        "display(HTML(standardTextDict[\"When do biological sounds contribute to the soundscape?\"]))"
      ],
      "id": "39f51eb4",
      "execution_count": null,
      "outputs": []
    },
    {
      "cell_type": "markdown",
      "metadata": {},
      "source": [
        ":::\n",
        "\n",
        "::: {style=\"border: 1px solid black; padding: 10px; margin-bottom: 20px;\"}\n",
        "## What are we learning?\n"
      ],
      "id": "8604cb70"
    },
    {
      "cell_type": "code",
      "metadata": {},
      "source": [
        "#| echo: false\n",
        "display(HTML(standardTextDict[\"What are we learning?\"]))"
      ],
      "id": "28e30f9b",
      "execution_count": null,
      "outputs": []
    },
    {
      "cell_type": "markdown",
      "metadata": {},
      "source": [
        ":::"
      ],
      "id": "69a90168"
    }
  ],
  "metadata": {
    "kernelspec": {
      "name": "python3",
      "language": "python",
      "display_name": "Python 3 (ipykernel)"
    }
  },
  "nbformat": 4,
  "nbformat_minor": 5
}